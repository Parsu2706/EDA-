{
 "cells": [
  {
   "cell_type": "code",
   "execution_count": 31,
   "id": "c481c572",
   "metadata": {},
   "outputs": [],
   "source": [
    "import pandas as pd \n",
    "import numpy as np \n",
    "import matplotlib.pyplot as plt \n",
    "import seaborn as sns \n",
    "import missingno as mnso \n",
    "import plotly.express as px\n",
    "import warnings \n",
    "warnings.filterwarnings('ignore')"
   ]
  },
  {
   "cell_type": "code",
   "execution_count": 2,
   "id": "6c7d2a62",
   "metadata": {},
   "outputs": [],
   "source": [
    "Patient = pd.read_csv('PatientInfo.csv')\n",
    "Policy = pd.read_csv('Policy.csv')\n",
    "Region = pd.read_csv('Region.csv')\n",
    "SearchTrend = pd.read_csv('SearchTrend.csv')\n",
    "Floating = pd.read_csv('SeoulFloating.csv')\n",
    "Time  = pd.read_csv('Time.csv')\n",
    "TimeAge = pd.read_csv('TimeAge.csv')\n",
    "TimeGender = pd.read_csv('TimeGender.csv')\n",
    "TimePro = pd.read_csv('TimeProvince.csv')\n",
    "Wheather = pd.read_csv('Weather.csv')\n",
    "  \n",
    "\n"
   ]
  },
  {
   "cell_type": "code",
   "execution_count": 3,
   "id": "7d88abdf",
   "metadata": {},
   "outputs": [],
   "source": [
    "def overview(datasets):\n",
    "    print(\"=\" * 20 + \" Basic Overview of Dataset \" + \"=\" * 20)\n",
    "\n",
    "    # First five rows\n",
    "    print(\"\\n\" + \"=\" * 10 + \" First Five Rows \" + \"=\" * 10)\n",
    "    print(datasets.head(5))\n",
    "\n",
    "   \n",
    "\n",
    "    # Dataset shape\n",
    "    print(\"\\n\" + \"=\" * 10 + \" Dataset Shape \" + \"=\" * 10)\n",
    "    print(f\"Total columns: {len(datasets.columns)}\")\n",
    "    print(f\"Total rows: {len(datasets)}\")\n",
    "\n",
    "    # Null values\n",
    "    print(\"\\n\" + \"=\" * 10 + \" Null Values in Each Column \" + \"=\" * 10)\n",
    "    print(datasets.isnull().sum())\n",
    "\n",
    "    # Duplicate rows\n",
    "    print(\"\\n\" + \"=\" * 10 + \" Duplicate Rows \" + \"=\" * 10)\n",
    "    dup_count = datasets.duplicated().sum()\n",
    "    print(f\"Total duplicate rows: {dup_count}\")\n",
    "\n",
    "    # Statistical summary\n",
    "    print(\"\\n\" + \"=\" * 10 + \" Statistical Summary \" + \"=\" * 10)\n",
    "    print(datasets.describe())\n"
   ]
  },
  {
   "cell_type": "code",
   "execution_count": 4,
   "id": "87c8cb0f",
   "metadata": {},
   "outputs": [
    {
     "name": "stdout",
     "output_type": "stream",
     "text": [
      "==================== Basic Overview of Dataset ====================\n",
      "\n",
      "========== First Five Rows ==========\n",
      "   patient_id     sex  age country province         city  \\\n",
      "0  1000000001    male  50s   Korea    Seoul   Gangseo-gu   \n",
      "1  1000000002    male  30s   Korea    Seoul  Jungnang-gu   \n",
      "2  1000000003    male  50s   Korea    Seoul    Jongno-gu   \n",
      "3  1000000004    male  20s   Korea    Seoul      Mapo-gu   \n",
      "4  1000000005  female  20s   Korea    Seoul  Seongbuk-gu   \n",
      "\n",
      "         infection_case infected_by contact_number symptom_onset_date  \\\n",
      "0       overseas inflow         NaN             75         2020-01-22   \n",
      "1       overseas inflow         NaN             31                NaN   \n",
      "2  contact with patient  2002000001             17                NaN   \n",
      "3       overseas inflow         NaN              9         2020-01-26   \n",
      "4  contact with patient  1000000002              2                NaN   \n",
      "\n",
      "  confirmed_date released_date deceased_date     state  \n",
      "0     2020-01-23    2020-02-05           NaN  released  \n",
      "1     2020-01-30    2020-03-02           NaN  released  \n",
      "2     2020-01-30    2020-02-19           NaN  released  \n",
      "3     2020-01-30    2020-02-15           NaN  released  \n",
      "4     2020-01-31    2020-02-24           NaN  released  \n",
      "\n",
      "========== Dataset Shape ==========\n",
      "Total columns: 14\n",
      "Total rows: 5165\n",
      "\n",
      "========== Null Values in Each Column ==========\n",
      "patient_id               0\n",
      "sex                   1122\n",
      "age                   1380\n",
      "country                  0\n",
      "province                 0\n",
      "city                    94\n",
      "infection_case         919\n",
      "infected_by           3819\n",
      "contact_number        4374\n",
      "symptom_onset_date    4475\n",
      "confirmed_date           3\n",
      "released_date         3578\n",
      "deceased_date         5099\n",
      "state                    0\n",
      "dtype: int64\n",
      "\n",
      "========== Duplicate Rows ==========\n",
      "Total duplicate rows: 0\n",
      "\n",
      "========== Statistical Summary ==========\n",
      "         patient_id\n",
      "count  5.165000e+03\n",
      "mean   2.863635e+09\n",
      "std    2.074211e+09\n",
      "min    1.000000e+09\n",
      "25%    1.000001e+09\n",
      "50%    2.000000e+09\n",
      "75%    6.001000e+09\n",
      "max    7.000000e+09\n"
     ]
    }
   ],
   "source": [
    "overview(Patient)"
   ]
  },
  {
   "cell_type": "code",
   "execution_count": 5,
   "id": "d02b4998",
   "metadata": {},
   "outputs": [
    {
     "name": "stdout",
     "output_type": "stream",
     "text": [
      "\n",
      "Patient has Null values:\n",
      "- sex: 1122 nulls (22.0%)\n",
      "- age: 1380 nulls (27.0%)\n",
      "- city: 94 nulls (2.0%)\n",
      "- infection_case: 919 nulls (18.0%)\n",
      "- infected_by: 3819 nulls (74.0%)\n",
      "- contact_number: 4374 nulls (85.0%)\n",
      "- symptom_onset_date: 4475 nulls (87.0%)\n",
      "- confirmed_date: 3 nulls (0.0%)\n",
      "- released_date: 3578 nulls (69.0%)\n",
      "- deceased_date: 5099 nulls (99.0%)\n",
      "\n",
      "==========================================================================================\n",
      "\n",
      "Column 'infected_by' deleted successfully.\n",
      "Column 'contact_number' deleted successfully.\n",
      "Column 'symptom_onset_date' deleted successfully.\n",
      "Column 'released_date' deleted successfully.\n",
      "Column 'deceased_date' deleted successfully.\n",
      "Successfully replaced null values in 'sex'.\n",
      "Successfully replaced null values in 'age'.\n",
      "Successfully replaced null values in 'city'.\n",
      "Successfully replaced null values in 'infection_case'.\n",
      "Successfully replaced null values in 'confirmed_date'.\n",
      "\n",
      "Policy has Null values:\n",
      "- detail: 2 nulls (3.0%)\n",
      "- end_date: 37 nulls (61.0%)\n",
      "\n",
      "==========================================================================================\n",
      "\n",
      "Column 'end_date' deleted successfully.\n",
      "Successfully replaced null values in 'detail'.\n",
      "\n",
      "Region has no null values.\n",
      "\n",
      "==========================================================================================\n",
      "\n",
      "\n",
      "SearchTrend has no null values.\n",
      "\n",
      "==========================================================================================\n",
      "\n",
      "\n",
      "Floating has no null values.\n",
      "\n",
      "==========================================================================================\n",
      "\n",
      "\n",
      "Time has no null values.\n",
      "\n",
      "==========================================================================================\n",
      "\n",
      "\n",
      "TimeAge has no null values.\n",
      "\n",
      "==========================================================================================\n",
      "\n",
      "\n",
      "TimeGender has no null values.\n",
      "\n",
      "==========================================================================================\n",
      "\n",
      "\n",
      "TimePro has no null values.\n",
      "\n",
      "==========================================================================================\n",
      "\n",
      "\n",
      "Wheather has Null values:\n",
      "- avg_temp: 15 nulls (0.0%)\n",
      "- min_temp: 5 nulls (0.0%)\n",
      "- max_temp: 3 nulls (0.0%)\n",
      "- max_wind_speed: 9 nulls (0.0%)\n",
      "- most_wind_direction: 29 nulls (0.0%)\n",
      "- avg_relative_humidity: 20 nulls (0.0%)\n",
      "\n",
      "==========================================================================================\n",
      "\n",
      "Successfully replaced null values in 'avg_temp'.\n",
      "Successfully replaced null values in 'min_temp'.\n",
      "Successfully replaced null values in 'max_temp'.\n",
      "Successfully replaced null values in 'max_wind_speed'.\n",
      "Successfully replaced null values in 'most_wind_direction'.\n",
      "Successfully replaced null values in 'avg_relative_humidity'.\n"
     ]
    }
   ],
   "source": [
    "dataset_names = [\"Patient\", \"Policy\", \"Region\", \"SearchTrend\", \"Floating\", \"Time\", \"TimeAge\", \"TimeGender\", \"TimePro\", \"Wheather\"]\n",
    "datasets = [Patient, Policy, Region, SearchTrend, Floating, Time, TimeAge, TimeGender, TimePro, Wheather]\n",
    "\n",
    "for name, df in zip(dataset_names, datasets):\n",
    "    null_columns = df.columns[df.isnull().any()]\n",
    "    if not null_columns.empty:\n",
    "        print(f\"\\n{name} has Null values:\")\n",
    "        for col in null_columns:\n",
    "            pct = ((df[col].isnull().sum() / len(df)) * 100).round(0)\n",
    "            print(f\"- {col}: {df[col].isnull().sum()} nulls ({pct}%)\")\n",
    "    else:\n",
    "        print(f\"\\n{name} has no null values.\")\n",
    "\n",
    "    print(\"\\n\" + \"=\" * 90 + \"\\n\")\n",
    "\n",
    "    # Drop columns with >30% nulls\n",
    "    high_null_cols = [col for col in df.columns if ((df[col].isnull().sum() / len(df)) * 100).round(0) > 30.0]\n",
    "    columns_dropped = df[high_null_cols].copy()\n",
    "    \n",
    "    for col in high_null_cols:\n",
    "        df.drop(col, axis=1, inplace=True)\n",
    "        print(f\"Column '{col}' deleted successfully.\")\n",
    "\n",
    "    # Fill missing values in remaining columns\n",
    "    for col in df.columns:\n",
    "        if df[col].isnull().any():\n",
    "            if df[col].dtype == 'object':\n",
    "                df[col] = df[col].fillna(df[col].mode()[0])\n",
    "            else:\n",
    "                df[col] = df[col].fillna(df[col].median())\n",
    "            print(f\"Successfully replaced null values in '{col}'.\")\n",
    "\n"
   ]
  },
  {
   "cell_type": "markdown",
   "id": "201fb030",
   "metadata": {},
   "source": []
  },
  {
   "cell_type": "markdown",
   "id": "b80e6fcb",
   "metadata": {},
   "source": []
  },
  {
   "cell_type": "code",
   "execution_count": 9,
   "id": "989810c4",
   "metadata": {},
   "outputs": [],
   "source": [
    "# till now - \n",
    "# 1) created function overview that help us to get breif overview of any dataset\n",
    "# 2)checked all columns of each dataset and identified the columns with null values\n",
    "# 3)calculated the percentage of null values . Droped the columns which has more that 30% null values\n",
    "# 4)replaced null values of columns (objects with mode and numeric with median )"
   ]
  },
  {
   "cell_type": "markdown",
   "id": "5579e792",
   "metadata": {},
   "source": [
    "##### till now - \n",
    "##### 1) created function overview that help us to get breif overview of any dataset\n",
    "##### 2)checked all columns of each dataset and identified the columns with null values\n",
    "##### 3)calculated the percentage of null values . Droped the columns which has more that 30% null values\n",
    "##### 4)replaced null values of columns (objects with mode and numeric with median )"
   ]
  },
  {
   "cell_type": "code",
   "execution_count": null,
   "id": "f8fbf9dd",
   "metadata": {},
   "outputs": [],
   "source": []
  },
  {
   "cell_type": "markdown",
   "id": "57375395",
   "metadata": {},
   "source": [
    "Visualization "
   ]
  },
  {
   "cell_type": "code",
   "execution_count": 11,
   "id": "1c1a5dd9",
   "metadata": {},
   "outputs": [
    {
     "data": {
      "text/plain": [
       "Index(['code', 'province', 'city', 'latitude', 'longitude',\n",
       "       'elementary_school_count', 'kindergarten_count', 'university_count',\n",
       "       'academy_ratio', 'elderly_population_ratio', 'elderly_alone_ratio',\n",
       "       'nursing_home_count'],\n",
       "      dtype='object')"
      ]
     },
     "execution_count": 11,
     "metadata": {},
     "output_type": "execute_result"
    }
   ],
   "source": [
    "Region.columns "
   ]
  },
  {
   "cell_type": "code",
   "execution_count": 15,
   "id": "0a8135cb",
   "metadata": {},
   "outputs": [
    {
     "name": "stderr",
     "output_type": "stream",
     "text": [
      "C:\\Users\\Prasad.LAPTOP-R00KVI21\\AppData\\Local\\Temp\\ipykernel_21472\\1548581813.py:4: DeprecationWarning:\n",
      "\n",
      "*scatter_mapbox* is deprecated! Use *scatter_map* instead. Learn more at: https://plotly.com/python/mapbox-to-maplibre/\n",
      "\n"
     ]
    },
    {
     "data": {
      "application/vnd.plotly.v1+json": {
       "config": {
        "plotlyServerURL": "https://plot.ly"
       },
       "data": [
        {
         "customdata": [
          [
           "Seoul",
           830,
           48,
           22739
          ],
          [
           "Seoul",
           38,
           0,
           3088
          ],
          [
           "Seoul",
           32,
           0,
           1023
          ],
          [
           "Seoul",
           21,
           0,
           628
          ],
          [
           "Seoul",
           56,
           1,
           1080
          ],
          [
           "Seoul",
           33,
           1,
           909
          ],
          [
           "Seoul",
           33,
           3,
           723
          ],
          [
           "Seoul",
           34,
           3,
           741
          ],
          [
           "Seoul",
           19,
           0,
           475
          ],
          [
           "Seoul",
           66,
           6,
           952
          ],
          [
           "Seoul",
           26,
           1,
           485
          ],
          [
           "Seoul",
           31,
           4,
           832
          ],
          [
           "Seoul",
           34,
           3,
           762
          ],
          [
           "Seoul",
           24,
           2,
           929
          ],
          [
           "Seoul",
           25,
           6,
           587
          ],
          [
           "Seoul",
           27,
           1,
           1465
          ],
          [
           "Seoul",
           30,
           2,
           593
          ],
          [
           "Seoul",
           49,
           6,
           729
          ],
          [
           "Seoul",
           51,
           1,
           1527
          ],
          [
           "Seoul",
           43,
           0,
           816
          ],
          [
           "Seoul",
           39,
           0,
           1001
          ],
          [
           "Seoul",
           13,
           1,
           435
          ],
          [
           "Seoul",
           44,
           1,
           874
          ],
          [
           "Seoul",
           17,
           3,
           668
          ],
          [
           "Seoul",
           14,
           2,
           728
          ],
          [
           "Seoul",
           31,
           1,
           689
          ],
          [
           "Busan",
           408,
           22,
           6752
          ],
          [
           "Busan",
           21,
           0,
           147
          ],
          [
           "Busan",
           28,
           4,
           466
          ],
          [
           "Busan",
           35,
           0,
           229
          ],
          [
           "Busan",
           27,
           4,
           475
          ],
          [
           "Busan",
           9,
           0,
           239
          ],
          [
           "Busan",
           31,
           0,
           608
          ],
          [
           "Busan",
           43,
           3,
           986
          ],
          [
           "Busan",
           37,
           1,
           465
          ],
          [
           "Busan",
           31,
           3,
           317
          ],
          [
           "Busan",
           42,
           2,
           541
          ],
          [
           "Busan",
           9,
           0,
           235
          ],
          [
           "Busan",
           22,
           0,
           395
          ],
          [
           "Busan",
           18,
           2,
           450
          ],
          [
           "Busan",
           12,
           2,
           203
          ],
          [
           "Busan",
           4,
           0,
           182
          ],
          [
           "Busan",
           39,
           1,
           814
          ],
          [
           "Daegu",
           355,
           11,
           5083
          ],
          [
           "Daegu",
           15,
           2,
           345
          ],
          [
           "Daegu",
           78,
           3,
           1064
          ],
          [
           "Daegu",
           47,
           1,
           361
          ],
          [
           "Daegu",
           58,
           0,
           649
          ],
          [
           "Daegu",
           73,
           4,
           748
          ],
          [
           "Daegu",
           23,
           0,
           374
          ],
          [
           "Daegu",
           49,
           1,
           948
          ],
          [
           "Daegu",
           12,
           0,
           594
          ],
          [
           "Gwangju",
           312,
           17,
           2852
          ],
          [
           "Gwangju",
           90,
           4,
           640
          ],
          [
           "Gwangju",
           44,
           4,
           427
          ],
          [
           "Gwangju",
           18,
           3,
           327
          ],
          [
           "Gwangju",
           105,
           6,
           782
          ],
          [
           "Gwangju",
           55,
           0,
           676
          ],
          [
           "Incheon",
           403,
           7,
           4497
          ],
          [
           "Incheon",
           19,
           1,
           107
          ],
          [
           "Incheon",
           36,
           2,
           477
          ],
          [
           "Incheon",
           43,
           2,
           643
          ],
          [
           "Incheon",
           77,
           0,
           955
          ],
          [
           "Incheon",
           12,
           1,
           122
          ],
          [
           "Incheon",
           66,
           0,
           847
          ],
          [
           "Incheon",
           80,
           0,
           670
          ],
          [
           "Incheon",
           43,
           1,
           467
          ],
          [
           "Incheon",
           10,
           0,
           32
          ],
          [
           "Incheon",
           17,
           0,
           177
          ],
          [
           "Daejeon",
           260,
           15,
           2984
          ],
          [
           "Daejeon",
           29,
           2,
           310
          ],
          [
           "Daejeon",
           35,
           4,
           447
          ],
          [
           "Daejeon",
           78,
           3,
           1123
          ],
          [
           "Daejeon",
           75,
           5,
           586
          ],
          [
           "Daejeon",
           43,
           1,
           518
          ],
          [
           "Ulsan",
           200,
           4,
           1801
          ],
          [
           "Ulsan",
           44,
           1,
           765
          ],
          [
           "Ulsan",
           25,
           1,
           242
          ],
          [
           "Ulsan",
           45,
           0,
           211
          ],
          [
           "Ulsan",
           49,
           2,
           260
          ],
          [
           "Ulsan",
           37,
           0,
           323
          ],
          [
           "Sejong",
           60,
           3,
           491
          ],
          [
           "Gyeonggi-do",
           2237,
           61,
           20491
          ],
          [
           "Gyeonggi-do",
           14,
           0,
           114
          ],
          [
           "Gyeonggi-do",
           171,
           2,
           1608
          ],
          [
           "Gyeonggi-do",
           7,
           0,
           92
          ],
          [
           "Gyeonggi-do",
           48,
           0,
           530
          ],
          [
           "Gyeonggi-do",
           42,
           2,
           406
          ],
          [
           "Gyeonggi-do",
           30,
           0,
           418
          ],
          [
           "Gyeonggi-do",
           49,
           1,
           429
          ],
          [
           "Gyeonggi-do",
           90,
           2,
           604
          ],
          [
           "Gyeonggi-do",
           110,
           1,
           912
          ],
          [
           "Gyeonggi-do",
           19,
           1,
           140
          ],
          [
           "Gyeonggi-do",
           124,
           4,
           1432
          ],
          [
           "Gyeonggi-do",
           127,
           3,
           2095
          ],
          [
           "Gyeonggi-do",
           192,
           4,
           2082
          ],
          [
           "Gyeonggi-do",
           74,
           2,
           622
          ],
          [
           "Gyeonggi-do",
           94,
           4,
           1024
          ],
          [
           "Gyeonggi-do",
           51,
           3,
           271
          ],
          [
           "Gyeonggi-do",
           79,
           4,
           1099
          ],
          [
           "Gyeonggi-do",
           48,
           1,
           252
          ],
          [
           "Gyeonggi-do",
           25,
           1,
           178
          ],
          [
           "Gyeonggi-do",
           34,
           1,
           191
          ],
          [
           "Gyeonggi-do",
           13,
           0,
           69
          ],
          [
           "Gyeonggi-do",
           50,
           2,
           314
          ],
          [
           "Gyeonggi-do",
           169,
           7,
           1429
          ],
          [
           "Gyeonggi-do",
           24,
           1,
           189
          ],
          [
           "Gyeonggi-do",
           62,
           1,
           729
          ],
          [
           "Gyeonggi-do",
           51,
           2,
           333
          ],
          [
           "Gyeonggi-do",
           98,
           1,
           573
          ],
          [
           "Gyeonggi-do",
           108,
           3,
           765
          ],
          [
           "Gyeonggi-do",
           33,
           2,
           209
          ],
          [
           "Gyeonggi-do",
           34,
           0,
           381
          ],
          [
           "Gyeonggi-do",
           167,
           6,
           1001
          ],
          [
           "Gangwon-do",
           368,
           18,
           2519
          ],
          [
           "Gangwon-do",
           36,
           4,
           347
          ],
          [
           "Gangwon-do",
           11,
           1,
           41
          ],
          [
           "Gangwon-do",
           17,
           0,
           140
          ],
          [
           "Gangwon-do",
           17,
           0,
           94
          ],
          [
           "Gangwon-do",
           11,
           0,
           165
          ],
          [
           "Gangwon-do",
           9,
           0,
           33
          ],
          [
           "Gangwon-do",
           15,
           0,
           37
          ],
          [
           "Gangwon-do",
           15,
           1,
           56
          ],
          [
           "Gangwon-do",
           71,
           4,
           597
          ],
          [
           "Gangwon-do",
           15,
           0,
           46
          ],
          [
           "Gangwon-do",
           15,
           0,
           53
          ],
          [
           "Gangwon-do",
           12,
           0,
           70
          ],
          [
           "Gangwon-do",
           43,
           5,
           472
          ],
          [
           "Gangwon-do",
           12,
           1,
           64
          ],
          [
           "Gangwon-do",
           16,
           0,
           84
          ],
          [
           "Gangwon-do",
           26,
           0,
           115
          ],
          [
           "Gangwon-do",
           14,
           0,
           36
          ],
          [
           "Gangwon-do",
           13,
           2,
           69
          ],
          [
           "Chungcheongbuk-do",
           328,
           17,
           2769
          ],
          [
           "Chungcheongbuk-do",
           15,
           1,
           64
          ],
          [
           "Chungcheongbuk-do",
           11,
           0,
           52
          ],
          [
           "Chungcheongbuk-do",
           16,
           0,
           74
          ],
          [
           "Chungcheongbuk-do",
           14,
           1,
           108
          ],
          [
           "Chungcheongbuk-do",
           17,
           1,
           107
          ],
          [
           "Chungcheongbuk-do",
           24,
           2,
           169
          ],
          [
           "Chungcheongbuk-do",
           35,
           2,
           245
          ],
          [
           "Chungcheongbuk-do",
           5,
           0,
           62
          ],
          [
           "Chungcheongbuk-do",
           16,
           0,
           121
          ],
          [
           "Chungcheongbuk-do",
           131,
           8,
           1420
          ],
          [
           "Chungcheongbuk-do",
           44,
           2,
           347
          ],
          [
           "Chungcheongnam-do",
           499,
           21,
           3641
          ],
          [
           "Chungcheongnam-do",
           8,
           0,
           61
          ],
          [
           "Chungcheongnam-do",
           34,
           2,
           221
          ],
          [
           "Chungcheongnam-do",
           16,
           1,
           119
          ],
          [
           "Chungcheongnam-do",
           32,
           2,
           262
          ],
          [
           "Chungcheongnam-do",
           35,
           1,
           265
          ],
          [
           "Chungcheongnam-do",
           33,
           1,
           186
          ],
          [
           "Chungcheongnam-do",
           27,
           1,
           137
          ],
          [
           "Chungcheongnam-do",
           39,
           1,
           261
          ],
          [
           "Chungcheongnam-do",
           18,
           0,
           116
          ],
          [
           "Chungcheongnam-do",
           60,
           3,
           435
          ],
          [
           "Chungcheongnam-do",
           26,
           0,
           156
          ],
          [
           "Chungcheongnam-do",
           112,
           6,
           1069
          ],
          [
           "Chungcheongnam-do",
           13,
           1,
           62
          ],
          [
           "Chungcheongnam-do",
           20,
           0,
           112
          ],
          [
           "Chungcheongnam-do",
           26,
           2,
           179
          ],
          [
           "Jeollabuk-do",
           519,
           19,
           3774
          ],
          [
           "Jeollabuk-do",
           22,
           0,
           123
          ],
          [
           "Jeollabuk-do",
           67,
           5,
           494
          ],
          [
           "Jeollabuk-do",
           40,
           0,
           188
          ],
          [
           "Jeollabuk-do",
           28,
           0,
           186
          ],
          [
           "Jeollabuk-do",
           9,
           0,
           53
          ],
          [
           "Jeollabuk-do",
           25,
           0,
           118
          ],
          [
           "Jeollabuk-do",
           15,
           0,
           72
          ],
          [
           "Jeollabuk-do",
           37,
           3,
           170
          ],
          [
           "Jeollabuk-do",
           83,
           2,
           556
          ],
          [
           "Jeollabuk-do",
           14,
           1,
           79
          ],
          [
           "Jeollabuk-do",
           8,
           0,
           44
          ],
          [
           "Jeollabuk-do",
           120,
           7,
           1381
          ],
          [
           "Jeollabuk-do",
           39,
           1,
           256
          ],
          [
           "Jeollabuk-do",
           12,
           0,
           54
          ],
          [
           "Jeollanam-do",
           542,
           19,
           3389
          ],
          [
           "Jeollanam-do",
           14,
           0,
           71
          ],
          [
           "Jeollanam-do",
           21,
           0,
           141
          ],
          [
           "Jeollanam-do",
           8,
           1,
           70
          ],
          [
           "Jeollanam-do",
           37,
           2,
           210
          ],
          [
           "Jeollanam-do",
           12,
           0,
           57
          ],
          [
           "Jeollanam-do",
           30,
           3,
           214
          ],
          [
           "Jeollanam-do",
           15,
           1,
           98
          ],
          [
           "Jeollanam-do",
           55,
           3,
           406
          ],
          [
           "Jeollanam-do",
           21,
           2,
           141
          ],
          [
           "Jeollanam-do",
           19,
           0,
           98
          ],
          [
           "Jeollanam-do",
           61,
           3,
           452
          ],
          [
           "Jeollanam-do",
           22,
           0,
           77
          ],
          [
           "Jeollanam-do",
           73,
           1,
           471
          ],
          [
           "Jeollanam-do",
           15,
           1,
           116
          ],
          [
           "Jeollanam-do",
           18,
           2,
           100
          ],
          [
           "Jeollanam-do",
           24,
           0,
           96
          ],
          [
           "Jeollanam-do",
           16,
           0,
           80
          ],
          [
           "Jeollanam-do",
           16,
           0,
           80
          ],
          [
           "Jeollanam-do",
           13,
           0,
           68
          ],
          [
           "Jeollanam-do",
           12,
           0,
           76
          ],
          [
           "Jeollanam-do",
           21,
           0,
           135
          ],
          [
           "Jeollanam-do",
           19,
           0,
           132
          ],
          [
           "Gyeongsangbuk-do",
           707,
           33,
           4474
          ],
          [
           "Gyeongsangbuk-do",
           61,
           10,
           427
          ],
          [
           "Gyeongsangbuk-do",
           61,
           4,
           407
          ],
          [
           "Gyeongsangbuk-do",
           9,
           0,
           62
          ],
          [
           "Gyeongsangbuk-do",
           104,
           3,
           616
          ],
          [
           "Gyeongsangbuk-do",
           8,
           0,
           41
          ],
          [
           "Gyeongsangbuk-do",
           37,
           2,
           212
          ],
          [
           "Gyeongsangbuk-do",
           26,
           1,
           147
          ],
          [
           "Gyeongsangbuk-do",
           17,
           0,
           47
          ],
          [
           "Gyeongsangbuk-do",
           35,
           0,
           186
          ],
          [
           "Gyeongsangbuk-do",
           15,
           0,
           84
          ],
          [
           "Gyeongsangbuk-do",
           42,
           3,
           290
          ],
          [
           "Gyeongsangbuk-do",
           11,
           0,
           81
          ],
          [
           "Gyeongsangbuk-do",
           8,
           0,
           24
          ],
          [
           "Gyeongsangbuk-do",
           26,
           2,
           191
          ],
          [
           "Gyeongsangbuk-do",
           23,
           1,
           192
          ],
          [
           "Gyeongsangbuk-do",
           15,
           1,
           97
          ],
          [
           "Gyeongsangbuk-do",
           6,
           0,
           11
          ],
          [
           "Gyeongsangbuk-do",
           16,
           0,
           83
          ],
          [
           "Gyeongsangbuk-do",
           16,
           0,
           108
          ],
          [
           "Gyeongsangbuk-do",
           14,
           0,
           85
          ],
          [
           "Gyeongsangbuk-do",
           8,
           0,
           55
          ],
          [
           "Gyeongsangbuk-do",
           32,
           2,
           151
          ],
          [
           "Gyeongsangbuk-do",
           117,
           4,
           877
          ],
          [
           "Gyeongsangnam-do",
           686,
           21,
           5364
          ],
          [
           "Gyeongsangnam-do",
           58,
           1,
           317
          ],
          [
           "Gyeongsangnam-do",
           16,
           2,
           127
          ],
          [
           "Gyeongsangnam-do",
           18,
           0,
           89
          ],
          [
           "Gyeongsangnam-do",
           91,
           4,
           711
          ],
          [
           "Gyeongsangnam-do",
           10,
           1,
           88
          ],
          [
           "Gyeongsangnam-do",
           25,
           0,
           178
          ],
          [
           "Gyeongsangnam-do",
           20,
           0,
           191
          ],
          [
           "Gyeongsangnam-do",
           11,
           0,
           72
          ],
          [
           "Gyeongsangnam-do",
           68,
           2,
           507
          ],
          [
           "Gyeongsangnam-do",
           10,
           0,
           60
          ],
          [
           "Gyeongsangnam-do",
           53,
           6,
           597
          ],
          [
           "Gyeongsangnam-do",
           20,
           0,
           129
          ],
          [
           "Gyeongsangnam-do",
           195,
           5,
           1701
          ],
          [
           "Gyeongsangnam-do",
           29,
           0,
           230
          ],
          [
           "Gyeongsangnam-do",
           15,
           0,
           94
          ],
          [
           "Gyeongsangnam-do",
           20,
           0,
           94
          ],
          [
           "Gyeongsangnam-do",
           12,
           0,
           83
          ],
          [
           "Gyeongsangnam-do",
           15,
           0,
           96
          ],
          [
           "Jeju-do",
           123,
           4,
           1245
          ],
          [
           "Korea",
           8837,
           340,
           94865
          ]
         ],
         "hovertemplate": "<b>%{hovertext}</b><br><br>elementary_school_count=%{marker.color}<br>latitude=%{lat}<br>longitude=%{lon}<br>province=%{customdata[0]}<br>kindergarten_count=%{customdata[1]}<br>university_count=%{customdata[2]}<br>nursing_home_count=%{customdata[3]}<extra></extra>",
         "hovertext": [
          "Seoul",
          "Gangnam-gu",
          "Gangdong-gu",
          "Gangbuk-gu",
          "Gangseo-gu",
          "Gwanak-gu",
          "Gwangjin-gu",
          "Guro-gu",
          "Geumcheon-gu",
          "Nowon-gu",
          "Dobong-gu",
          "Dongdaemun-gu",
          "Dongjak-gu",
          "Mapo-gu",
          "Seodaemun-gu",
          "Seocho-gu",
          "Seongdong-gu",
          "Seongbuk-gu",
          "Songpa-gu",
          "Yangcheon-gu",
          "Yeongdeungpo-gu",
          "Yongsan-gu",
          "Eunpyeong-gu",
          "Jongno-gu",
          "Jung-gu",
          "Jungnang-gu",
          "Busan",
          "Gangseo-gu",
          "Geumjeong-gu",
          "Gijang-gun",
          "Nam-gu",
          "Dong-gu",
          "Dongnae-gu",
          "Busanjin-gu",
          "Buk-gu",
          "Sasang-gu",
          "Saha-gu",
          "Seo-gu",
          "Suyeong-gu",
          "Yeonje-gu",
          "Yeongdo-gu",
          "Jung-gu",
          "Haeundae-gu",
          "Daegu",
          "Nam-gu",
          "Dalseo-gu",
          "Dalseong-gun",
          "Dong-gu",
          "Buk-gu",
          "Seo-gu",
          "Suseong-gu",
          "Jung-gu",
          "Gwangju",
          "Gwangsan-gu",
          "Nam-gu",
          "Dong-gu",
          "Buk-gu",
          "Seo-gu",
          "Incheon",
          "Ganghwa-gun",
          "Gyeyang-gu",
          "Michuhol-gu",
          "Namdong-gu",
          "Dong-gu",
          "Bupyeong-gu",
          "Seo-gu",
          "Yeonsu-gu",
          "Ongjin-gun",
          "Jung-gu",
          "Daejeon",
          "Daedeok-gu",
          "Dong-gu",
          "Seo-gu",
          "Yuseong-gu",
          "Jung-gu",
          "Ulsan",
          "Nam-gu",
          "Dong-gu",
          "Buk-gu",
          "Ulju-gun",
          "Jung-gu",
          "Sejong",
          "Gyeonggi-do",
          "Gapyeong-gun",
          "Goyang-si",
          "Gwacheon-si",
          "Gwangmyeong-si",
          "Gwangju-si",
          "Guri-si",
          "Gunpo-si",
          "Gimpo-si",
          "Namyangju-si",
          "Dongducheon-si",
          "Bucheon-si",
          "Seongnam-si",
          "Suwon-si",
          "Siheung-si",
          "Ansan-si",
          "Anseong-si",
          "Anyang-si",
          "Yangju-si",
          "Yangpyeong-gun",
          "Yeoju-si",
          "Yeoncheon-gun",
          "Osan-si",
          "Yongin-si",
          "Uiwang-si",
          "Uijeongbu-si",
          "Icheon-si",
          "Paju-si",
          "Pyeongtaek-si",
          "Pocheon-si",
          "Hanam-si",
          "Hwaseong-si",
          "Gangwon-do",
          "Gangneung-si",
          "Goseong-gun",
          "Donghae-si",
          "Samcheok-si",
          "Sokcho-si",
          "Yanggu-gun",
          "Yangyang-gun",
          "Yeongwol-gun",
          "Wonju-si",
          "Inje-gun",
          "Jeongseon-gun",
          "Cheorwon-gun",
          "Chuncheon-si",
          "Taebaek-si",
          "Pyeongchang-gun",
          "Hongcheon-gun",
          "Hwacheon-gun",
          "Hoengseong-gun",
          "Chungcheongbuk-do",
          "Goesan-gun",
          "Danyang-gun",
          "Boeun-gun",
          "Yeongdong-gun",
          "Okcheon-gun",
          "Eumseong-gun",
          "Jecheon-si",
          "Jeungpyeong-gun",
          "Jincheon-gun",
          "Cheongju-si",
          "Chungju-si",
          "Chungcheongnam-do",
          "Gyeryong-si",
          "Gongju-si",
          "Geumsan-gun",
          "Nonsan-si",
          "Dangjin-si",
          "Boryeong-si",
          "Buyeo-gun",
          "Seosan-si",
          "Seocheon-gun",
          "Asan-si",
          "Yesan-gun",
          "Cheonan-si",
          "Cheongyang-gun",
          "Taean-gun",
          "Hongseong-gun",
          "Jeollabuk-do",
          "Gochang-gun",
          "Gunsan-si",
          "Gimje-si",
          "Namwon-si",
          "Muju-gun",
          "Buan-gun",
          "Sunchang-gun",
          "Wanju-gun",
          "Iksan-si",
          "Imsil-gun",
          "Jangsu-gun",
          "Jeonju-si",
          "Jeongeup-si",
          "Jinan-gun",
          "Jeollanam-do",
          "Gangjin-gun",
          "Goheung-gun",
          "Gokseong-gun",
          "Gwangyang-si",
          "Gurye-gun",
          "Naju-si",
          "Damyang-gun",
          "Mokpo-si",
          "Muan-gun",
          "Boseong-gun",
          "Suncheon-si",
          "Sinan-gun",
          "Yeosu-si",
          "Yeonggwang-gun",
          "Yeongam-gun",
          "Wando-gun",
          "Jangseong-gun",
          "Jangheung-gun",
          "Jindo-gun",
          "Hampyeong-gun",
          "Haenam-gun",
          "Hwasun-gun",
          "Gyeongsangbuk-do",
          "Gyeongsan-si",
          "Gyeongju-si",
          "Goryeong-gun",
          "Gumi-si",
          "Gunwi-gun",
          "Gimcheon-si",
          "Mungyeong-si",
          "Bonghwa-gun",
          "Sangju-si",
          "Seongju-gun",
          "Andong-si",
          "Yeongdeok-gun",
          "Yeongyang-gun",
          "Yeongju-si",
          "Yeongcheon-si",
          "Yecheon-gun",
          "Ulleung-gun",
          "Uljin-gun",
          "Uiseong-gun",
          "Cheongdo-gun",
          "Cheongsong-gun",
          "Chilgok-gun",
          "Pohang-si",
          "Gyeongsangnam-do",
          "Geoje-si",
          "Geochang-gun",
          "Goseong-gun",
          "Gimhae-si",
          "Namhae-gun",
          "Miryang-si",
          "Sacheon-si",
          "Sancheong-gun",
          "Yangsan-si",
          "Uiryeong-gun",
          "Jinju-si",
          "Changnyeong-gun",
          "Changwon-si",
          "Tongyeong-si",
          "Hadong-gun",
          "Haman-gun",
          "Hamyang-gun",
          "Hapcheon-gun",
          "Jeju-do",
          "Korea"
         ],
         "lat": {
          "bdata": "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",
          "dtype": "f8"
         },
         "legendgroup": "",
         "lon": {
          "bdata": "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",
          "dtype": "f8"
         },
         "marker": {
          "color": {
           "bdata": "XwIhABsADgAkABYAFgAaABIAKgAXABUAFQAWABMAGAAVAB0AKAAeABcADwAfAA0ADAAXADABEQAWABUAFQAHABYAIAAbABUAGgALAAoAEAAOAAQAIQDlAAsANwAgACAAJgARACIACgCbAC0AFwALAC4AHgD6ABQAGgAdACYACAAqACwAFwAGAA4AlAAVABcAJwAmABsAdwAeABAAFgAeABUAMAD9BA0AVAAEABkAGwAQABoAKwBAAAsAQABIAGMALgA2ACMAKQAhABYAFwANABcAZwAOACEAHwA5ADoAHwAUAFwAXQEiAA0ADgATAAwACgANAA0AMgANABAAEAAoAAwAEwAaAA0AEAADAQ4ACwAPAA4ADAAVABgABAAPAFwAJQCZAQUAHAAQACEAHgAdABgAHQASAC4AGABLAAwAEwAVAKMBFQA4ACQAGwAKABYADwAdADwADwAIAEkAIgANAK0BDgARAAgAHAAKABgADgAhABIAEQAqABMAMgANABAAFQANAA8ACgALABQAEADXAR8AKwAJADIABwAbABEADgAcAAwAHgAJAAYAEwASAAwABAANABAACwAIABUAQgD1ASYAEQATADoADQAVABIADQAlAA0ALQARAG4AFAAQABAADQARAHEAxxc=",
           "dtype": "i2"
          },
          "coloraxis": "coloraxis",
          "size": {
           "bdata": "XwIhABsADgAkABYAFgAaABIAKgAXABUAFQAWABMAGAAVAB0AKAAeABcADwAfAA0ADAAXADABEQAWABUAFQAHABYAIAAbABUAGgALAAoAEAAOAAQAIQDlAAsANwAgACAAJgARACIACgCbAC0AFwALAC4AHgD6ABQAGgAdACYACAAqACwAFwAGAA4AlAAVABcAJwAmABsAdwAeABAAFgAeABUAMAD9BA0AVAAEABkAGwAQABoAKwBAAAsAQABIAGMALgA2ACMAKQAhABYAFwANABcAZwAOACEAHwA5ADoAHwAUAFwAXQEiAA0ADgATAAwACgANAA0AMgANABAAEAAoAAwAEwAaAA0AEAADAQ4ACwAPAA4ADAAVABgABAAPAFwAJQCZAQUAHAAQACEAHgAdABgAHQASAC4AGABLAAwAEwAVAKMBFQA4ACQAGwAKABYADwAdADwADwAIAEkAIgANAK0BDgARAAgAHAAKABgADgAhABIAEQAqABMAMgANABAAFQANAA8ACgALABQAEADXAR8AKwAJADIABwAbABEADgAcAAwAHgAJAAYAEwASAAwABAANABAACwAIABUAQgD1ASYAEQATADoADQAVABIADQAlAA0ALQARAG4AFAAQABAADQARAHEAxxc=",
           "dtype": "i2"
          },
          "sizemode": "area",
          "sizeref": 15.2175
         },
         "mode": "markers",
         "name": "",
         "showlegend": false,
         "subplot": "mapbox",
         "type": "scattermapbox"
        }
       ],
       "layout": {
        "coloraxis": {
         "colorbar": {
          "title": {
           "text": "elementary_school_count"
          }
         },
         "colorscale": [
          [
           0,
           "#440154"
          ],
          [
           0.1111111111111111,
           "#482878"
          ],
          [
           0.2222222222222222,
           "#3e4989"
          ],
          [
           0.3333333333333333,
           "#31688e"
          ],
          [
           0.4444444444444444,
           "#26828e"
          ],
          [
           0.5555555555555556,
           "#1f9e89"
          ],
          [
           0.6666666666666666,
           "#35b779"
          ],
          [
           0.7777777777777778,
           "#6ece58"
          ],
          [
           0.8888888888888888,
           "#b5de2b"
          ],
          [
           1,
           "#fde725"
          ]
         ]
        },
        "legend": {
         "itemsizing": "constant",
         "tracegroupgap": 0
        },
        "mapbox": {
         "center": {
          "lat": 36.396995811475406,
          "lon": 127.66140068442624
         },
         "domain": {
          "x": [
           0,
           1
          ],
          "y": [
           0,
           1
          ]
         },
         "style": "carto-positron",
         "zoom": 5
        },
        "margin": {
         "t": 60
        },
        "template": {
         "data": {
          "bar": [
           {
            "error_x": {
             "color": "#2a3f5f"
            },
            "error_y": {
             "color": "#2a3f5f"
            },
            "marker": {
             "line": {
              "color": "#E5ECF6",
              "width": 0.5
             },
             "pattern": {
              "fillmode": "overlay",
              "size": 10,
              "solidity": 0.2
             }
            },
            "type": "bar"
           }
          ],
          "barpolar": [
           {
            "marker": {
             "line": {
              "color": "#E5ECF6",
              "width": 0.5
             },
             "pattern": {
              "fillmode": "overlay",
              "size": 10,
              "solidity": 0.2
             }
            },
            "type": "barpolar"
           }
          ],
          "carpet": [
           {
            "aaxis": {
             "endlinecolor": "#2a3f5f",
             "gridcolor": "white",
             "linecolor": "white",
             "minorgridcolor": "white",
             "startlinecolor": "#2a3f5f"
            },
            "baxis": {
             "endlinecolor": "#2a3f5f",
             "gridcolor": "white",
             "linecolor": "white",
             "minorgridcolor": "white",
             "startlinecolor": "#2a3f5f"
            },
            "type": "carpet"
           }
          ],
          "choropleth": [
           {
            "colorbar": {
             "outlinewidth": 0,
             "ticks": ""
            },
            "type": "choropleth"
           }
          ],
          "contour": [
           {
            "colorbar": {
             "outlinewidth": 0,
             "ticks": ""
            },
            "colorscale": [
             [
              0,
              "#0d0887"
             ],
             [
              0.1111111111111111,
              "#46039f"
             ],
             [
              0.2222222222222222,
              "#7201a8"
             ],
             [
              0.3333333333333333,
              "#9c179e"
             ],
             [
              0.4444444444444444,
              "#bd3786"
             ],
             [
              0.5555555555555556,
              "#d8576b"
             ],
             [
              0.6666666666666666,
              "#ed7953"
             ],
             [
              0.7777777777777778,
              "#fb9f3a"
             ],
             [
              0.8888888888888888,
              "#fdca26"
             ],
             [
              1,
              "#f0f921"
             ]
            ],
            "type": "contour"
           }
          ],
          "contourcarpet": [
           {
            "colorbar": {
             "outlinewidth": 0,
             "ticks": ""
            },
            "type": "contourcarpet"
           }
          ],
          "heatmap": [
           {
            "colorbar": {
             "outlinewidth": 0,
             "ticks": ""
            },
            "colorscale": [
             [
              0,
              "#0d0887"
             ],
             [
              0.1111111111111111,
              "#46039f"
             ],
             [
              0.2222222222222222,
              "#7201a8"
             ],
             [
              0.3333333333333333,
              "#9c179e"
             ],
             [
              0.4444444444444444,
              "#bd3786"
             ],
             [
              0.5555555555555556,
              "#d8576b"
             ],
             [
              0.6666666666666666,
              "#ed7953"
             ],
             [
              0.7777777777777778,
              "#fb9f3a"
             ],
             [
              0.8888888888888888,
              "#fdca26"
             ],
             [
              1,
              "#f0f921"
             ]
            ],
            "type": "heatmap"
           }
          ],
          "histogram": [
           {
            "marker": {
             "pattern": {
              "fillmode": "overlay",
              "size": 10,
              "solidity": 0.2
             }
            },
            "type": "histogram"
           }
          ],
          "histogram2d": [
           {
            "colorbar": {
             "outlinewidth": 0,
             "ticks": ""
            },
            "colorscale": [
             [
              0,
              "#0d0887"
             ],
             [
              0.1111111111111111,
              "#46039f"
             ],
             [
              0.2222222222222222,
              "#7201a8"
             ],
             [
              0.3333333333333333,
              "#9c179e"
             ],
             [
              0.4444444444444444,
              "#bd3786"
             ],
             [
              0.5555555555555556,
              "#d8576b"
             ],
             [
              0.6666666666666666,
              "#ed7953"
             ],
             [
              0.7777777777777778,
              "#fb9f3a"
             ],
             [
              0.8888888888888888,
              "#fdca26"
             ],
             [
              1,
              "#f0f921"
             ]
            ],
            "type": "histogram2d"
           }
          ],
          "histogram2dcontour": [
           {
            "colorbar": {
             "outlinewidth": 0,
             "ticks": ""
            },
            "colorscale": [
             [
              0,
              "#0d0887"
             ],
             [
              0.1111111111111111,
              "#46039f"
             ],
             [
              0.2222222222222222,
              "#7201a8"
             ],
             [
              0.3333333333333333,
              "#9c179e"
             ],
             [
              0.4444444444444444,
              "#bd3786"
             ],
             [
              0.5555555555555556,
              "#d8576b"
             ],
             [
              0.6666666666666666,
              "#ed7953"
             ],
             [
              0.7777777777777778,
              "#fb9f3a"
             ],
             [
              0.8888888888888888,
              "#fdca26"
             ],
             [
              1,
              "#f0f921"
             ]
            ],
            "type": "histogram2dcontour"
           }
          ],
          "mesh3d": [
           {
            "colorbar": {
             "outlinewidth": 0,
             "ticks": ""
            },
            "type": "mesh3d"
           }
          ],
          "parcoords": [
           {
            "line": {
             "colorbar": {
              "outlinewidth": 0,
              "ticks": ""
             }
            },
            "type": "parcoords"
           }
          ],
          "pie": [
           {
            "automargin": true,
            "type": "pie"
           }
          ],
          "scatter": [
           {
            "fillpattern": {
             "fillmode": "overlay",
             "size": 10,
             "solidity": 0.2
            },
            "type": "scatter"
           }
          ],
          "scatter3d": [
           {
            "line": {
             "colorbar": {
              "outlinewidth": 0,
              "ticks": ""
             }
            },
            "marker": {
             "colorbar": {
              "outlinewidth": 0,
              "ticks": ""
             }
            },
            "type": "scatter3d"
           }
          ],
          "scattercarpet": [
           {
            "marker": {
             "colorbar": {
              "outlinewidth": 0,
              "ticks": ""
             }
            },
            "type": "scattercarpet"
           }
          ],
          "scattergeo": [
           {
            "marker": {
             "colorbar": {
              "outlinewidth": 0,
              "ticks": ""
             }
            },
            "type": "scattergeo"
           }
          ],
          "scattergl": [
           {
            "marker": {
             "colorbar": {
              "outlinewidth": 0,
              "ticks": ""
             }
            },
            "type": "scattergl"
           }
          ],
          "scattermap": [
           {
            "marker": {
             "colorbar": {
              "outlinewidth": 0,
              "ticks": ""
             }
            },
            "type": "scattermap"
           }
          ],
          "scattermapbox": [
           {
            "marker": {
             "colorbar": {
              "outlinewidth": 0,
              "ticks": ""
             }
            },
            "type": "scattermapbox"
           }
          ],
          "scatterpolar": [
           {
            "marker": {
             "colorbar": {
              "outlinewidth": 0,
              "ticks": ""
             }
            },
            "type": "scatterpolar"
           }
          ],
          "scatterpolargl": [
           {
            "marker": {
             "colorbar": {
              "outlinewidth": 0,
              "ticks": ""
             }
            },
            "type": "scatterpolargl"
           }
          ],
          "scatterternary": [
           {
            "marker": {
             "colorbar": {
              "outlinewidth": 0,
              "ticks": ""
             }
            },
            "type": "scatterternary"
           }
          ],
          "surface": [
           {
            "colorbar": {
             "outlinewidth": 0,
             "ticks": ""
            },
            "colorscale": [
             [
              0,
              "#0d0887"
             ],
             [
              0.1111111111111111,
              "#46039f"
             ],
             [
              0.2222222222222222,
              "#7201a8"
             ],
             [
              0.3333333333333333,
              "#9c179e"
             ],
             [
              0.4444444444444444,
              "#bd3786"
             ],
             [
              0.5555555555555556,
              "#d8576b"
             ],
             [
              0.6666666666666666,
              "#ed7953"
             ],
             [
              0.7777777777777778,
              "#fb9f3a"
             ],
             [
              0.8888888888888888,
              "#fdca26"
             ],
             [
              1,
              "#f0f921"
             ]
            ],
            "type": "surface"
           }
          ],
          "table": [
           {
            "cells": {
             "fill": {
              "color": "#EBF0F8"
             },
             "line": {
              "color": "white"
             }
            },
            "header": {
             "fill": {
              "color": "#C8D4E3"
             },
             "line": {
              "color": "white"
             }
            },
            "type": "table"
           }
          ]
         },
         "layout": {
          "annotationdefaults": {
           "arrowcolor": "#2a3f5f",
           "arrowhead": 0,
           "arrowwidth": 1
          },
          "autotypenumbers": "strict",
          "coloraxis": {
           "colorbar": {
            "outlinewidth": 0,
            "ticks": ""
           }
          },
          "colorscale": {
           "diverging": [
            [
             0,
             "#8e0152"
            ],
            [
             0.1,
             "#c51b7d"
            ],
            [
             0.2,
             "#de77ae"
            ],
            [
             0.3,
             "#f1b6da"
            ],
            [
             0.4,
             "#fde0ef"
            ],
            [
             0.5,
             "#f7f7f7"
            ],
            [
             0.6,
             "#e6f5d0"
            ],
            [
             0.7,
             "#b8e186"
            ],
            [
             0.8,
             "#7fbc41"
            ],
            [
             0.9,
             "#4d9221"
            ],
            [
             1,
             "#276419"
            ]
           ],
           "sequential": [
            [
             0,
             "#0d0887"
            ],
            [
             0.1111111111111111,
             "#46039f"
            ],
            [
             0.2222222222222222,
             "#7201a8"
            ],
            [
             0.3333333333333333,
             "#9c179e"
            ],
            [
             0.4444444444444444,
             "#bd3786"
            ],
            [
             0.5555555555555556,
             "#d8576b"
            ],
            [
             0.6666666666666666,
             "#ed7953"
            ],
            [
             0.7777777777777778,
             "#fb9f3a"
            ],
            [
             0.8888888888888888,
             "#fdca26"
            ],
            [
             1,
             "#f0f921"
            ]
           ],
           "sequentialminus": [
            [
             0,
             "#0d0887"
            ],
            [
             0.1111111111111111,
             "#46039f"
            ],
            [
             0.2222222222222222,
             "#7201a8"
            ],
            [
             0.3333333333333333,
             "#9c179e"
            ],
            [
             0.4444444444444444,
             "#bd3786"
            ],
            [
             0.5555555555555556,
             "#d8576b"
            ],
            [
             0.6666666666666666,
             "#ed7953"
            ],
            [
             0.7777777777777778,
             "#fb9f3a"
            ],
            [
             0.8888888888888888,
             "#fdca26"
            ],
            [
             1,
             "#f0f921"
            ]
           ]
          },
          "colorway": [
           "#636efa",
           "#EF553B",
           "#00cc96",
           "#ab63fa",
           "#FFA15A",
           "#19d3f3",
           "#FF6692",
           "#B6E880",
           "#FF97FF",
           "#FECB52"
          ],
          "font": {
           "color": "#2a3f5f"
          },
          "geo": {
           "bgcolor": "white",
           "lakecolor": "white",
           "landcolor": "#E5ECF6",
           "showlakes": true,
           "showland": true,
           "subunitcolor": "white"
          },
          "hoverlabel": {
           "align": "left"
          },
          "hovermode": "closest",
          "mapbox": {
           "style": "light"
          },
          "paper_bgcolor": "white",
          "plot_bgcolor": "#E5ECF6",
          "polar": {
           "angularaxis": {
            "gridcolor": "white",
            "linecolor": "white",
            "ticks": ""
           },
           "bgcolor": "#E5ECF6",
           "radialaxis": {
            "gridcolor": "white",
            "linecolor": "white",
            "ticks": ""
           }
          },
          "scene": {
           "xaxis": {
            "backgroundcolor": "#E5ECF6",
            "gridcolor": "white",
            "gridwidth": 2,
            "linecolor": "white",
            "showbackground": true,
            "ticks": "",
            "zerolinecolor": "white"
           },
           "yaxis": {
            "backgroundcolor": "#E5ECF6",
            "gridcolor": "white",
            "gridwidth": 2,
            "linecolor": "white",
            "showbackground": true,
            "ticks": "",
            "zerolinecolor": "white"
           },
           "zaxis": {
            "backgroundcolor": "#E5ECF6",
            "gridcolor": "white",
            "gridwidth": 2,
            "linecolor": "white",
            "showbackground": true,
            "ticks": "",
            "zerolinecolor": "white"
           }
          },
          "shapedefaults": {
           "line": {
            "color": "#2a3f5f"
           }
          },
          "ternary": {
           "aaxis": {
            "gridcolor": "white",
            "linecolor": "white",
            "ticks": ""
           },
           "baxis": {
            "gridcolor": "white",
            "linecolor": "white",
            "ticks": ""
           },
           "bgcolor": "#E5ECF6",
           "caxis": {
            "gridcolor": "white",
            "linecolor": "white",
            "ticks": ""
           }
          },
          "title": {
           "x": 0.05
          },
          "xaxis": {
           "automargin": true,
           "gridcolor": "white",
           "linecolor": "white",
           "ticks": "",
           "title": {
            "standoff": 15
           },
           "zerolinecolor": "white",
           "zerolinewidth": 2
          },
          "yaxis": {
           "automargin": true,
           "gridcolor": "white",
           "linecolor": "white",
           "ticks": "",
           "title": {
            "standoff": 15
           },
           "zerolinecolor": "white",
           "zerolinewidth": 2
          }
         }
        }
       }
      }
     },
     "metadata": {},
     "output_type": "display_data"
    }
   ],
   "source": [
    "# Assuming your education dataset is called edu_df\n",
    "import plotly.express as px\n",
    "\n",
    "fig = px.scatter_mapbox(\n",
    "    Region,  # <-- use the correct dataframe here\n",
    "    lat=\"latitude\",\n",
    "    lon=\"longitude\",\n",
    "    size=\"elementary_school_count\",\n",
    "    color=\"elementary_school_count\",\n",
    "    hover_name=\"city\",\n",
    "    hover_data=[\"province\", \"kindergarten_count\", \"university_count\", \"nursing_home_count\"],\n",
    "    color_continuous_scale=\"Viridis\",\n",
    "    size_max=20,\n",
    "    zoom=5,\n",
    "    mapbox_style=\"carto-positron\"\n",
    "    \n",
    ")\n",
    "fig.show()\n"
   ]
  },
  {
   "cell_type": "code",
   "execution_count": 16,
   "id": "8cd64dbf",
   "metadata": {},
   "outputs": [
    {
     "data": {
      "text/html": [
       "<div>\n",
       "<style scoped>\n",
       "    .dataframe tbody tr th:only-of-type {\n",
       "        vertical-align: middle;\n",
       "    }\n",
       "\n",
       "    .dataframe tbody tr th {\n",
       "        vertical-align: top;\n",
       "    }\n",
       "\n",
       "    .dataframe thead th {\n",
       "        text-align: right;\n",
       "    }\n",
       "</style>\n",
       "<table border=\"1\" class=\"dataframe\">\n",
       "  <thead>\n",
       "    <tr style=\"text-align: right;\">\n",
       "      <th></th>\n",
       "      <th>code</th>\n",
       "      <th>province</th>\n",
       "      <th>city</th>\n",
       "      <th>latitude</th>\n",
       "      <th>longitude</th>\n",
       "      <th>elementary_school_count</th>\n",
       "      <th>kindergarten_count</th>\n",
       "      <th>university_count</th>\n",
       "      <th>academy_ratio</th>\n",
       "      <th>elderly_population_ratio</th>\n",
       "      <th>elderly_alone_ratio</th>\n",
       "      <th>nursing_home_count</th>\n",
       "    </tr>\n",
       "  </thead>\n",
       "  <tbody>\n",
       "    <tr>\n",
       "      <th>0</th>\n",
       "      <td>10000</td>\n",
       "      <td>Seoul</td>\n",
       "      <td>Seoul</td>\n",
       "      <td>37.566953</td>\n",
       "      <td>126.977977</td>\n",
       "      <td>607</td>\n",
       "      <td>830</td>\n",
       "      <td>48</td>\n",
       "      <td>1.44</td>\n",
       "      <td>15.38</td>\n",
       "      <td>5.8</td>\n",
       "      <td>22739</td>\n",
       "    </tr>\n",
       "    <tr>\n",
       "      <th>1</th>\n",
       "      <td>10010</td>\n",
       "      <td>Seoul</td>\n",
       "      <td>Gangnam-gu</td>\n",
       "      <td>37.518421</td>\n",
       "      <td>127.047222</td>\n",
       "      <td>33</td>\n",
       "      <td>38</td>\n",
       "      <td>0</td>\n",
       "      <td>4.18</td>\n",
       "      <td>13.17</td>\n",
       "      <td>4.3</td>\n",
       "      <td>3088</td>\n",
       "    </tr>\n",
       "    <tr>\n",
       "      <th>2</th>\n",
       "      <td>10020</td>\n",
       "      <td>Seoul</td>\n",
       "      <td>Gangdong-gu</td>\n",
       "      <td>37.530492</td>\n",
       "      <td>127.123837</td>\n",
       "      <td>27</td>\n",
       "      <td>32</td>\n",
       "      <td>0</td>\n",
       "      <td>1.54</td>\n",
       "      <td>14.55</td>\n",
       "      <td>5.4</td>\n",
       "      <td>1023</td>\n",
       "    </tr>\n",
       "    <tr>\n",
       "      <th>3</th>\n",
       "      <td>10030</td>\n",
       "      <td>Seoul</td>\n",
       "      <td>Gangbuk-gu</td>\n",
       "      <td>37.639938</td>\n",
       "      <td>127.025508</td>\n",
       "      <td>14</td>\n",
       "      <td>21</td>\n",
       "      <td>0</td>\n",
       "      <td>0.67</td>\n",
       "      <td>19.49</td>\n",
       "      <td>8.5</td>\n",
       "      <td>628</td>\n",
       "    </tr>\n",
       "    <tr>\n",
       "      <th>4</th>\n",
       "      <td>10040</td>\n",
       "      <td>Seoul</td>\n",
       "      <td>Gangseo-gu</td>\n",
       "      <td>37.551166</td>\n",
       "      <td>126.849506</td>\n",
       "      <td>36</td>\n",
       "      <td>56</td>\n",
       "      <td>1</td>\n",
       "      <td>1.17</td>\n",
       "      <td>14.39</td>\n",
       "      <td>5.7</td>\n",
       "      <td>1080</td>\n",
       "    </tr>\n",
       "  </tbody>\n",
       "</table>\n",
       "</div>"
      ],
      "text/plain": [
       "    code province         city   latitude   longitude  \\\n",
       "0  10000    Seoul        Seoul  37.566953  126.977977   \n",
       "1  10010    Seoul   Gangnam-gu  37.518421  127.047222   \n",
       "2  10020    Seoul  Gangdong-gu  37.530492  127.123837   \n",
       "3  10030    Seoul   Gangbuk-gu  37.639938  127.025508   \n",
       "4  10040    Seoul   Gangseo-gu  37.551166  126.849506   \n",
       "\n",
       "   elementary_school_count  kindergarten_count  university_count  \\\n",
       "0                      607                 830                48   \n",
       "1                       33                  38                 0   \n",
       "2                       27                  32                 0   \n",
       "3                       14                  21                 0   \n",
       "4                       36                  56                 1   \n",
       "\n",
       "   academy_ratio  elderly_population_ratio  elderly_alone_ratio  \\\n",
       "0           1.44                     15.38                  5.8   \n",
       "1           4.18                     13.17                  4.3   \n",
       "2           1.54                     14.55                  5.4   \n",
       "3           0.67                     19.49                  8.5   \n",
       "4           1.17                     14.39                  5.7   \n",
       "\n",
       "   nursing_home_count  \n",
       "0               22739  \n",
       "1                3088  \n",
       "2                1023  \n",
       "3                 628  \n",
       "4                1080  "
      ]
     },
     "execution_count": 16,
     "metadata": {},
     "output_type": "execute_result"
    }
   ],
   "source": [
    "Region.head()"
   ]
  },
  {
   "cell_type": "code",
   "execution_count": 24,
   "id": "07c347f0",
   "metadata": {},
   "outputs": [
    {
     "data": {
      "image/png": "[encoded data removed]",
      "text/plain": [
       "<Figure size 1200x400 with 3 Axes>"
      ]
     },
     "metadata": {},
     "output_type": "display_data"
    }
   ],
   "source": [
    "plt.figure(figsize=(12, 4))\n",
    "\n",
    "plt.subplot(1,3,1)\n",
    "sns.histplot(Region['academy_ratio'] , kde = True,bins = 30)\n",
    "plt.title(\"Distribution of Academy Ratio\")\n",
    "\n",
    "plt.subplot(1,3,2)\n",
    "sns.histplot(Region['elderly_population_ratio'] , kde = True,bins = 30)\n",
    "plt.title(\"Distribution of elderly_population_ratio\")\n",
    "\n",
    "plt.subplot(1,3,3)\n",
    "sns.histplot(Region['elderly_alone_ratio'] , kde = True,bins = 30)\n",
    "plt.title('Distribution of elderly_alone_ratio')\n",
    "\n",
    "plt.tight_layout()\n",
    "plt.show()"
   ]
  },
  {
   "cell_type": "code",
   "execution_count": 41,
   "id": "6546eb32",
   "metadata": {},
   "outputs": [
    {
     "data": {
      "text/plain": [
       "<Figure size 1200x400 with 0 Axes>"
      ]
     },
     "metadata": {},
     "output_type": "display_data"
    },
    {
     "data": {
      "image/png": "[encoded data removed]",
      "text/plain": [
       "<Figure size 3000x2000 with 4 Axes>"
      ]
     },
     "metadata": {},
     "output_type": "display_data"
    }
   ],
   "source": [
    "top10Province = Region.groupby(\"province\")[\n",
    "    [\"elementary_school_count\", \"kindergarten_count\", \"university_count\", \"nursing_home_count\"]].sum().sort_values(by=\"nursing_home_count\", ascending=False).head(10)\n",
    "plt.figure(figsize=(12, 4))\n",
    "\n",
    "\n",
    "\n",
    "\n",
    "fig , axes = plt.subplots(2,2,figsize=(30, 20))\n",
    "axes = axes.flatten()\n",
    "\n",
    "for idx , col in enumerate(top10Province):\n",
    "    sns.barplot(data = top10Province.sort_values(by=col, ascending=False).reset_index() , x = \"province\" , y = col , palette=\"viridis\" , ax = axes[idx])\n",
    "    axes[idx].set_title(f\"Top 10 Provience with highest count of {col}\")\n",
    "    plt.xlabel(f\"top 10 Provience\")\n",
    "    plt.ylabel(f\"count of {col}\")\n",
    "fig.suptitle(\"Distribution of Key Public Services \" , fontsize=20, y=1.02)\n",
    "plt.xticks(rotation = 45)\n",
    "plt.tight_layout()\n",
    "\n",
    "plt.show()"
   ]
  },
  {
   "cell_type": "code",
   "execution_count": 48,
   "id": "8c735bc5",
   "metadata": {},
   "outputs": [],
   "source": [
    "Patient['age'] = Patient['age'].str.replace('s' , \" \" )\n",
    "Patient['age'] = Patient['age'].astype(int)"
   ]
  },
  {
   "cell_type": "code",
   "execution_count": 64,
   "id": "11552763",
   "metadata": {},
   "outputs": [
    {
     "data": {
      "image/png": "[encoded data removed]",
      "text/plain": [
       "<Figure size 3000x2000 with 4 Axes>"
      ]
     },
     "metadata": {},
     "output_type": "display_data"
    }
   ],
   "source": [
    "Patient_group = Patient.groupby([\"country\", \"province\", \"city\"])[['sex', 'age', 'infection_case', 'state']].count()\n",
    "\n",
    "fig, axes = plt.subplots(2, 2, figsize=(30, 20))\n",
    "\n",
    "# Age distribution\n",
    "sns.histplot(Patient['age'], kde=True, ax=axes[0, 0])\n",
    "axes[0, 0].set_title('Age Distribution')\n",
    "axes[0, 0].set_xlabel('Age')\n",
    "\n",
    "# Released and Deceased count based on gender\n",
    "sns.countplot(data=Patient, x='sex', hue='state', palette='viridis', ax=axes[0, 1])\n",
    "axes[0, 1].set_title('Released and Deceased Count Based on Gender')\n",
    "axes[0, 1].set_xlabel('Gender')\n",
    "\n",
    "plt.tight_layout()\n",
    "plt.show()\n"
   ]
  },
  {
   "cell_type": "code",
   "execution_count": null,
   "id": "db38cc75",
   "metadata": {},
   "outputs": [],
   "source": []
  },
  {
   "cell_type": "code",
   "execution_count": null,
   "id": "c466b557",
   "metadata": {},
   "outputs": [],
   "source": []
  }
 ],
 "metadata": {
  "kernelspec": {
   "display_name": "Python 3",
   "language": "python",
   "name": "python3"
  },
  "language_info": {
   "codemirror_mode": {
    "name": "ipython",
    "version": 3
   },
   "file_extension": ".py",
   "mimetype": "text/x-python",
   "name": "python",
   "nbconvert_exporter": "python",
   "pygments_lexer": "ipython3",
   "version": "3.13.1"
  }
 },
 "nbformat": 4,
 "nbformat_minor": 5
}
